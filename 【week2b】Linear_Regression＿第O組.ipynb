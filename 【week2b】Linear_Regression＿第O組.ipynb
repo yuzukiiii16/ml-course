{
  "nbformat": 4,
  "nbformat_minor": 0,
  "metadata": {
    "colab": {
      "provenance": [],
      "include_colab_link": true
    },
    "kernelspec": {
      "name": "python3",
      "display_name": "Python 3"
    },
    "language_info": {
      "name": "python"
    }
  },
  "cells": [
    {
      "cell_type": "markdown",
      "metadata": {
        "id": "view-in-github",
        "colab_type": "text"
      },
      "source": [
        "<a href=\"https://colab.research.google.com/github/yuzukiiii16/ml-course/blob/main/%E3%80%90week2b%E3%80%91Linear_Regression%EF%BC%BF%E7%AC%ACO%E7%B5%84.ipynb\" target=\"_parent\"><img src=\"https://colab.research.google.com/assets/colab-badge.svg\" alt=\"Open In Colab\"/></a>"
      ]
    },
    {
      "cell_type": "markdown",
      "source": [
        "# 匯入必要套件"
      ],
      "metadata": {
        "id": "XJ9ClKzHTa7o"
      }
    },
    {
      "cell_type": "code",
      "execution_count": null,
      "metadata": {
        "id": "8qhJi2vIN2rc"
      },
      "outputs": [],
      "source": [
        "import pandas as pd\n",
        "import numpy as np\n",
        "from sklearn.linear_model import LinearRegression\n",
        "from sklearn.metrics import mean_squared_error\n",
        "import matplotlib.pyplot as plt\n",
        "import seaborn as sns"
      ]
    },
    {
      "cell_type": "markdown",
      "source": [
        "#匯入初步處理好的資料\n"
      ],
      "metadata": {
        "id": "KEGWeAmy4JUY"
      }
    },
    {
      "cell_type": "markdown",
      "source": [
        "###請將網址換成你存放在 Google Drive 中、已經完成初步前處理的資料檔案網址，並轉成直接下載的網址（Direct Link），這樣程式才能直接存取你提供的資料。\n",
        "\n",
        "⭐ 請將檔案的存取權改成知道連結的任何人，避免無法成功讀取檔案！！⭐\n",
        "\n",
        "Google Drive Direct Link Generator：https://sites.google.com/site/gdocs2direct/"
      ],
      "metadata": {
        "id": "YVwUI9XsVXs_"
      }
    },
    {
      "cell_type": "code",
      "source": [
        "# ==========================\n",
        "# 請修改以下程式碼\n",
        "\n",
        "FILE_ID=\"______\" # 根據direct link後面的id填入\n",
        "FILE_NAME=\"______\" # 改成你資料集的名稱\n",
        "!curl -L -o $FILE_NAME \"______\" #改成你的direct link\n",
        "\n",
        "# =========================="
      ],
      "metadata": {
        "id": "EpcxD0voEY_B"
      },
      "execution_count": null,
      "outputs": []
    },
    {
      "cell_type": "markdown",
      "source": [
        "###資料下載後，檢查是否成功讀取，如果能看到資料代表成功"
      ],
      "metadata": {
        "id": "qoxhw6RqU5DG"
      }
    },
    {
      "cell_type": "code",
      "source": [
        "# ==========================\n",
        "# 請修改以下程式碼\n",
        "df = pd.read_csv(\"______\", encoding=\"utf-8\") # 改成你資料集的名稱\n",
        "# ==========================\n",
        "\n",
        "df.head() # 顯示資料"
      ],
      "metadata": {
        "id": "zCUhj_gF9bAI"
      },
      "execution_count": null,
      "outputs": []
    },
    {
      "cell_type": "markdown",
      "source": [
        "# 畫出散佈圖先觀察price與各變數之間的關係"
      ],
      "metadata": {
        "id": "Brn0EhcmWNBQ"
      }
    },
    {
      "cell_type": "code",
      "source": [
        "# ==========================\n",
        "# 請修改以下程式碼\n",
        "# 說明: 請根據你整理完的資料，將欄位名稱填入下面的 features_lr 清單中\n",
        "features_lr = []\n",
        "\n",
        "\n",
        "# 確保所有特徵都是數值型\n",
        "df[features_lr] = df[features_lr].apply(pd.to_numeric, errors='coerce')\n",
        "\n",
        "# 設定圖形風格，選擇白底與格線\n",
        "sns.set(style=\"whitegrid\")\n",
        "\n",
        "# 繪製每個特徵與房價的散佈圖\n",
        "for feat in features_lr:\n",
        "    plt.figure(figsize=(6,4)) #設定圖表的大小（寬 6 吋，高 4 吋）\n",
        "    sns.scatterplot(data=df, x=feat, y='price') # 畫出特徵 feat 和房價 price 的散佈圖\n",
        "    plt.title(f'{feat} vs price')  # 圖表標題\n",
        "    plt.xlabel(feat)  # x 軸標籤\n",
        "    plt.ylabel('price')  # y 軸標籤\n",
        "    plt.show() # 顯示圖"
      ],
      "metadata": {
        "id": "BNgscPtMnbR2"
      },
      "execution_count": null,
      "outputs": []
    },
    {
      "cell_type": "markdown",
      "source": [
        "# 利用相關係數觀察price與各變數之間的關係"
      ],
      "metadata": {
        "id": "UtXaKky8z-u2"
      }
    },
    {
      "cell_type": "code",
      "source": [
        "# 計算相關係數矩陣\n",
        "correlation_matrix = df.corr()\n",
        "\n",
        "# 顯示所有變數與 'price' 的相關係數\n",
        "print(\"各變數與 price 的相關係數:\")\n",
        "print(correlation_matrix['price'].sort_values(ascending=False))"
      ],
      "metadata": {
        "id": "-eZEz52H0BH7"
      },
      "execution_count": null,
      "outputs": []
    },
    {
      "cell_type": "markdown",
      "source": [
        "### price為目標變項，選定特徵進行線性回歸\n",
        "注意：特徵一定要包含bedrooms、beds、baths、neighbourhood_group、room_type、rating，因為後續會使用到。"
      ],
      "metadata": {
        "id": "rcUpnpKRnOYn"
      }
    },
    {
      "cell_type": "code",
      "source": [
        "# ==========================\n",
        "# 請修改以下程式碼\n",
        "# 說明: 請根據你觀察的結果，選擇你認為適合的「特徵」，填入下面的 features_lr 清單中：\n",
        "\n",
        "features_lr = []\n",
        "\n",
        "# ==========================\n",
        "\n",
        "\n",
        "# 設定特徵與目標\n",
        "X_lr = df[features_lr]\n",
        "y_lr = df['price']\n",
        "\n",
        "# 切分資料（80% 訓練、20% 測試），可自行修改 test_size\n",
        "X_train, X_test, y_train, y_test = train_test_split(X_lr, y_lr, test_size=0.2, random_state=42)\n",
        "\n",
        "# 用訓練資料訓練模型\n",
        "lr_model = LinearRegression()\n",
        "lr_model.fit(X_train, y_train)\n",
        "\n",
        "# 顯示回歸結果\n",
        "print(\"線性回歸係數:\")\n",
        "for feat, coef in zip(features_lr, lr_model.coef_):\n",
        "    print(f\"{feat}: {coef:.4f}\")\n",
        "print(f\"截距: {lr_model.intercept_:.4f}\")\n",
        "\n",
        "\n",
        "\n",
        "# 用訓練資料做預測\n",
        "y_train_pred = lr_model.predict(X_train)\n",
        "# 用測試資料做預測\n",
        "y_test_pred = lr_model.predict(X_test)\n",
        "\n",
        "# 計算訓練資料的 R², MSE 和 RMSE\n",
        "r2_train = lr_model.score(X_train, y_train)\n",
        "mse_train = mean_squared_error(y_train, y_train_pred)\n",
        "rmse_train = np.sqrt(mse_train)\n",
        "\n",
        "# 計算測試資料的 R², MSE 和 RMSE\n",
        "r2_test = lr_model.score(X_test, y_test)\n",
        "mse_test = mean_squared_error(y_test, y_test_pred)\n",
        "rmse_test = np.sqrt(mse_test)\n",
        "\n",
        "# 顯示結果\n",
        "print(f\"訓練資料 R²: {r2_train:.4f}\")\n",
        "print(f\"訓練資料 MSE: {mse_train:.4f}\")\n",
        "print(f\"訓練資料 RMSE: {rmse_train:.4f}\")\n",
        "print(f\"測試資料 R²: {r2_test:.4f}\")\n",
        "print(f\"測試資料 MSE: {mse_test:.4f}\")\n",
        "print(f\"測試資料 RMSE: {rmse_test:.4f}\")"
      ],
      "metadata": {
        "id": "BbUwuPFZoPgu"
      },
      "execution_count": null,
      "outputs": []
    },
    {
      "cell_type": "markdown",
      "source": [
        "### 線性回歸模型的預測效果：比較「實際房價」和「模型預測出來的房價」的接近程度。"
      ],
      "metadata": {
        "id": "9n7VqjvZYL9u"
      }
    },
    {
      "cell_type": "code",
      "source": [
        "plt.figure(figsize=(6,6)) # 建立圖表視窗，設定圖表大小\n",
        "plt.scatter(y_test, y_test_pred, alpha=0.5) # 畫出實際價格與預測價格的散布圖\n",
        "plt.xlabel('Actual price') # 設定 x 軸名稱\n",
        "plt.ylabel('Predicted price') # 設定 y 軸名稱\n",
        "plt.title('Actual vs Predicted price') # 設定圖表標題\n",
        "plt.plot([y_test.min(), y_test.max()], [y_test.min(), y_test.max()], 'r--') # 畫出一條紅色虛線，代表理想的預測（實際值 = 預測值）\n",
        "plt.show() # 顯示圖表"
      ],
      "metadata": {
        "id": "duTp_KcK4wxO"
      },
      "execution_count": null,
      "outputs": []
    },
    {
      "cell_type": "markdown",
      "source": [
        "# 若呈現出來的預測準確性不夠好要如何改善？\n",
        "\n",
        "取 log 或 One-hot 編碼"
      ],
      "metadata": {
        "id": "ElPJbkV9Y0Kl"
      }
    },
    {
      "cell_type": "markdown",
      "source": [
        "### 取log\n",
        "\n",
        "雖然已處理極端值，但資料可能仍有偏態。"
      ],
      "metadata": {
        "id": "NnTuze6Em4gw"
      }
    },
    {
      "cell_type": "code",
      "source": [
        "# ==========================\n",
        "# 請修改以下程式碼\n",
        "# 說明: 請將 price 取對數（log），讓分布更平均。\n",
        "\n",
        "df['______'] = np.log(df['______'])\n",
        "\n",
        "# =========================="
      ],
      "metadata": {
        "id": "H2Vq7Nu6eyhz"
      },
      "execution_count": null,
      "outputs": []
    },
    {
      "cell_type": "markdown",
      "source": [
        "### 進行線性迴歸\n",
        "注意：特徵一定要包含bedrooms、beds、baths、neighbourhood_group、room_type、rating，因為後續會使用到。"
      ],
      "metadata": {
        "id": "Yqm5dxC9a6o1"
      }
    },
    {
      "cell_type": "code",
      "source": [
        "# ==========================\n",
        "# 請修改以下程式碼\n",
        "# 說明: 請根據你觀察的結果，選擇適合的「特徵」，填入下面的 features_lr 清單中\n",
        "\n",
        "features_lr = []\n",
        "\n",
        "# ==========================\n",
        "\n",
        "X_lr = df[features_lr]\n",
        "\n",
        "# ==========================\n",
        "# 請修改以下程式碼\n",
        "# 說明: 請填入取完log值的price\n",
        "\n",
        "y_lr = df['______']\n",
        "\n",
        "# ==========================\n",
        "\n",
        "\n",
        "# 切分資料（80% 訓練、20% 測試），可自行修改 test_size\n",
        "X_train, X_test, y_train, y_test = train_test_split(X_lr, y_lr, test_size=0.2, random_state=42)\n",
        "\n",
        "# 用訓練資料訓練模型\n",
        "lr_model = LinearRegression()\n",
        "lr_model.fit(X_train, y_train)\n",
        "\n",
        "# 顯示回歸結果（來自訓練資料）\n",
        "print(\"線性回歸係數:\")\n",
        "for feat, coef in zip(features_lr, lr_model.coef_):\n",
        "    print(f\"{feat}: {coef:.4f}\")\n",
        "print(f\"截距: {lr_model.intercept_:.4f}\")\n",
        "\n",
        "\n",
        "\n",
        "# 用訓練資料做預測\n",
        "y_train_pred = lr_model.predict(X_train)\n",
        "# 用測試資料做預測\n",
        "y_test_pred = lr_model.predict(X_test)\n",
        "\n",
        "# 預測值與真實值還原為價格\n",
        "y_train_pred_price = np.exp(y_train_pred)\n",
        "y_test_pred_price = np.exp(y_test_pred)\n",
        "y_train_true_price = np.exp(y_train)\n",
        "y_test_true_price = np.exp(y_test)\n",
        "\n",
        "# 評估模型（訓練資料）\n",
        "r2_train = lr_model.score(X_train, y_train)\n",
        "mse_train = mean_squared_error(y_train_true_price, y_train_pred_price)\n",
        "rmse_train = np.sqrt(mse_train)\n",
        "\n",
        "# 評估模型（測試資料）\n",
        "r2_test = lr_model.score(X_test, y_test)\n",
        "mse_test = mean_squared_error(y_test_true_price, y_test_pred_price)\n",
        "rmse_test = np.sqrt(mse_test)\n",
        "\n",
        "# 顯示結果\n",
        "print(f\"訓練資料的 R²: {r2_train:.4f}\")\n",
        "print(f\"訓練資料的 MSE: {mse_train:.4f}\")\n",
        "print(f\"訓練資料的 RMSE: {rmse_train:.4f}\")\n",
        "print(f\"測試資料的 R²: {r2_test:.4f}\")\n",
        "print(f\"測試資料的 MSE: {mse_test:.4f}\")\n",
        "print(f\"測試資料的 RMSE: {rmse_test:.4f}\")"
      ],
      "metadata": {
        "id": "kv4BkByVy0Rb"
      },
      "execution_count": null,
      "outputs": []
    },
    {
      "cell_type": "markdown",
      "source": [
        "### 線性回歸模型的預測效果：比較「實際房價」和「模型預測出來的房價」的接近程度。\n"
      ],
      "metadata": {
        "id": "fc0jVXs7bOiA"
      }
    },
    {
      "cell_type": "code",
      "source": [
        "plt.figure(figsize=(6,6))\n",
        "plt.scatter(y_test, y_test_pred, alpha=0.5)\n",
        "plt.xlabel('Actual price')\n",
        "plt.ylabel('Predicted price')\n",
        "plt.title('Actual vs Predicted price')\n",
        "plt.plot([y_test.min(), y_test.max()], [y_test.min(), y_test.max()], 'r--')\n",
        "plt.show()"
      ],
      "metadata": {
        "id": "477BrItU4yOu"
      },
      "execution_count": null,
      "outputs": []
    },
    {
      "cell_type": "markdown",
      "source": [
        "# One-hot 編碼\n",
        "\n",
        "類別型資料不具備大小順序，無法直接進行數學運算，為了讓模型正確處理，請使用 One-Hot Encoding"
      ],
      "metadata": {
        "id": "aLTt55OSZkNG"
      }
    },
    {
      "cell_type": "code",
      "source": [
        "# ==========================\n",
        "# 請修改以下程式碼\n",
        "# 說明:請找出哪些欄位需要進行One-Hot Encoding\n",
        "\n",
        "df = pd.get_dummies(df, columns=['______'])\n",
        "\n",
        "# =========================="
      ],
      "metadata": {
        "id": "eozVnZDGZrmn"
      },
      "execution_count": null,
      "outputs": []
    },
    {
      "cell_type": "code",
      "source": [
        "# 確認是否成功進行one-hot編碼\n",
        "df.head(100)"
      ],
      "metadata": {
        "id": "7xU1aiWEZvvq"
      },
      "execution_count": null,
      "outputs": []
    },
    {
      "cell_type": "markdown",
      "source": [
        "### 進行線性回歸\n",
        "注意：特徵一定要包含bedrooms、beds、baths、neighbourhood_group、room_type、rating，因為後續會使用到。"
      ],
      "metadata": {
        "id": "BcHHCuaFaDP4"
      }
    },
    {
      "cell_type": "code",
      "source": [
        "# ==========================\n",
        "# 請修改以下程式碼\n",
        "# 說明:請寫出進行過 One-Hot Encoding 的欄位，請思考如果欄位不只一個，應該如何寫條件\n",
        "# 篩選出經過 One-Hot Encoding 轉換的欄位，欄位名稱會包含原始欄位名稱，因此以原始欄位名稱來找（例如 'neighbourhood'）\n",
        "\n",
        "new_columns = [col for col in df.columns if '______' in col _條件_ '______' in col ]\n",
        "\n",
        "# ==========================\n",
        "\n",
        "\n",
        "# ==========================\n",
        "# 請修改以下程式碼\n",
        "# 說明: 請根據你觀察的結果，選擇你適合的「特徵」，填入下面的 features_lr 清單中：\n",
        "\n",
        "features_lr = [\n",
        "    '______',\n",
        "    '______',\n",
        "    .....\n",
        "\n",
        "] + new_columns\n",
        "\n",
        "# ==========================\n",
        "\n",
        "X_lr = df[features_lr]\n",
        "y_lr = df['log_price']\n",
        "\n",
        "# 分割訓練與測試資料（80% 訓練，20% 測試），可自行修改 test_size\n",
        "X_train, X_test, y_train, y_test = train_test_split(X_lr, y_lr, test_size=0.2, random_state=42)\n",
        "\n",
        "# 建立並訓練模型\n",
        "lr_model = LinearRegression()\n",
        "lr_model.fit(X_train, y_train)\n",
        "\n",
        "# 顯示回歸係數與截距\n",
        "print(\"線性回歸係數:\")\n",
        "for feat, coef in zip(features_lr, lr_model.coef_):\n",
        "    print(f\"{feat}: {coef:.4f}\")\n",
        "print(f\"截距: {lr_model.intercept_:.4f}\")\n",
        "\n",
        "\n",
        "\n",
        "\n",
        "# 預測訓練資料\n",
        "y_train_pred = lr_model.predict(X_train)\n",
        "# 預測測試資料\n",
        "y_test_pred = lr_model.predict(X_test)\n",
        "\n",
        "# 還原為實際價格\n",
        "y_train_pred_price = np.exp(y_train_pred)\n",
        "y_test_pred_price = np.exp(y_test_pred)\n",
        "y_train_true_price = np.exp(y_train)\n",
        "y_test_true_price = np.exp(y_test)\n",
        "\n",
        "# 評估模型（訓練資料）\n",
        "r2_train = lr_model.score(X_train, y_train)\n",
        "mse_train_price = mean_squared_error(y_train_true_price, y_train_pred_price)\n",
        "rmse_train_price = np.sqrt(mse_train_price)\n",
        "\n",
        "# 評估模型（測試資料）\n",
        "r2_test = lr_model.score(X_test, y_test)\n",
        "mse_test_price = mean_squared_error(y_test_true_price, y_test_pred_price)\n",
        "rmse_test_price = np.sqrt(mse_test_price)\n",
        "\n",
        "# 顯示結果\n",
        "print(f\"訓練資料的 R²: {r2_train:.4f}\")\n",
        "print(f\"訓練資料的 MSE: {mse_train_price:.2f}\")\n",
        "print(f\"訓練資料的 RMSE: {rmse_train_price:.2f}\")\n",
        "print(f\"測試資料的 R²: {r2_test:.4f}\")\n",
        "print(f\"測試資料的 MSE: {mse_test_price:.2f}\")\n",
        "print(f\"測試資料的 RMSE: {rmse_test_price:.2f}\")"
      ],
      "metadata": {
        "id": "MVHhrLTMaHfL"
      },
      "execution_count": null,
      "outputs": []
    },
    {
      "cell_type": "markdown",
      "source": [
        "### 線性回歸模型的預測效果：比較「實際房價」和「模型預測出來的房價」的接近程度。\n"
      ],
      "metadata": {
        "id": "Yo2BmDe1aXgQ"
      }
    },
    {
      "cell_type": "code",
      "source": [
        "plt.figure(figsize=(6,6))\n",
        "plt.scatter(y_test, y_test_pred, alpha=0.5)\n",
        "plt.xlabel('Actual price')\n",
        "plt.ylabel('Predicted price')\n",
        "plt.title('Actual vs Predicted price')\n",
        "plt.plot([y_test.min(), y_test.max()], [y_test.min(), y_test.max()], 'r--')\n",
        "plt.show()"
      ],
      "metadata": {
        "id": "swGpOd03lkI4"
      },
      "execution_count": null,
      "outputs": []
    }
  ]
}