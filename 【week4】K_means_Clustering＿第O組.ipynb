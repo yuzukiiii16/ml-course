{
  "nbformat": 4,
  "nbformat_minor": 0,
  "metadata": {
    "colab": {
      "provenance": [],
      "gpuType": "T4",
      "include_colab_link": true
    },
    "kernelspec": {
      "name": "python3",
      "display_name": "Python 3"
    },
    "language_info": {
      "name": "python"
    },
    "accelerator": "GPU"
  },
  "cells": [
    {
      "cell_type": "markdown",
      "metadata": {
        "id": "view-in-github",
        "colab_type": "text"
      },
      "source": [
        "<a href=\"https://colab.research.google.com/github/yuzukiiii16/ml-course/blob/main/%E3%80%90week4%E3%80%91K_means_Clustering%EF%BC%BF%E7%AC%ACO%E7%B5%84.ipynb\" target=\"_parent\"><img src=\"https://colab.research.google.com/assets/colab-badge.svg\" alt=\"Open In Colab\"/></a>"
      ]
    },
    {
      "cell_type": "markdown",
      "source": [
        "<h1>說明：</h1>\n",
        "<h3>你需要修改的地方會用底下的標記框出來，請依照註解的提示修改</h3>\n",
        "\n",
        "\n",
        "\n",
        "```\n",
        "# ==========================\n",
        "\n",
        "\n",
        "# ==========================\n",
        "```\n",
        "\n"
      ],
      "metadata": {
        "id": "I97WZcsFroL2"
      }
    },
    {
      "cell_type": "markdown",
      "source": [
        "# 匯入必要套件"
      ],
      "metadata": {
        "id": "XJ9ClKzHTa7o"
      }
    },
    {
      "cell_type": "code",
      "execution_count": null,
      "metadata": {
        "id": "8qhJi2vIN2rc"
      },
      "outputs": [],
      "source": [
        "import pandas as pd\n",
        "import numpy as np\n",
        "import matplotlib.pyplot as plt\n",
        "import seaborn as sns\n",
        "from sklearn.preprocessing import StandardScaler, OneHotEncoder\n",
        "from sklearn.preprocessing import StandardScaler\n",
        "from sklearn.compose import ColumnTransformer\n",
        "from sklearn.pipeline import Pipeline\n",
        "from sklearn.cluster import KMeans\n",
        "from sklearn.decomposition import PCA"
      ]
    },
    {
      "cell_type": "markdown",
      "source": [
        "#匯入初步處理好的資料\n"
      ],
      "metadata": {
        "id": "KEGWeAmy4JUY"
      }
    },
    {
      "cell_type": "markdown",
      "source": [
        "###請將網址換成你存放在 Google Drive 中、已經完成初步前處理的資料檔案網址，並轉成直接下載的網址（Direct Link），這樣程式才能直接存取你提供的資料，不需要再手動開啟或下載。\n",
        "\n",
        "Google Drive Direct Link Generator：https://sites.google.com/site/gdocs2direct/"
      ],
      "metadata": {
        "id": "YVwUI9XsVXs_"
      }
    },
    {
      "cell_type": "code",
      "source": [
        "# ==========================\n",
        "# 請修改以下程式碼\n",
        "\n",
        "FILE_NAME=\"airbnb_data.csv\" # 將airbnb_data.csv改成你資料集的名稱\n",
        "!curl -L -o $FILE_NAME \"https://sites.google.com/site/gdocs2direct/\" #將 https://sites.google.com/site/gdocs2direct/ 改成你的direct link\n",
        "\n",
        "# =========================="
      ],
      "metadata": {
        "id": "EpcxD0voEY_B"
      },
      "execution_count": null,
      "outputs": []
    },
    {
      "cell_type": "markdown",
      "source": [
        "###資料下載後，檢查是否成功讀取，如果能看到資料代表成功"
      ],
      "metadata": {
        "id": "qoxhw6RqU5DG"
      }
    },
    {
      "cell_type": "code",
      "source": [
        "# ==========================\n",
        "# 請修改以下程式碼\n",
        "df = pd.read_csv(\"airbnb_data.csv\", encoding=\"utf-8\") # 將airbnb_data.csv改成你資料集的名稱\n",
        "# ==========================\n",
        "\n",
        "df.head() # 顯示資料"
      ],
      "metadata": {
        "id": "zCUhj_gF9bAI"
      },
      "execution_count": null,
      "outputs": []
    },
    {
      "cell_type": "markdown",
      "source": [
        "#特徵工程"
      ],
      "metadata": {
        "id": "JMULC8PLbo6u"
      }
    },
    {
      "cell_type": "markdown",
      "source": [
        "##數值資料取log"
      ],
      "metadata": {
        "id": "AHp_uPvxbutU"
      }
    },
    {
      "cell_type": "markdown",
      "source": [
        "###先檢查哪些數值資料有偏態"
      ],
      "metadata": {
        "id": "TgXY6VQz5p4W"
      }
    },
    {
      "cell_type": "code",
      "source": [
        "# ==========================\n",
        "# 請修改以下程式碼\n",
        "# 說明: 將數值資料放入numerical_features\n",
        "numerical_features = []\n",
        "# =========================="
      ],
      "metadata": {
        "id": "meU5tr06boox"
      },
      "execution_count": null,
      "outputs": []
    },
    {
      "cell_type": "code",
      "source": [
        "# 畫出直方圖觀察是否偏態\n",
        "for col in numerical_features:\n",
        "    plt.figure(figsize=(6,4))\n",
        "    sns.histplot(df[col], bins=50, kde=True)\n",
        "    plt.title(f\"{col} Distribution\")\n",
        "    plt.show()"
      ],
      "metadata": {
        "id": "cYTGEFrr8SX7"
      },
      "execution_count": null,
      "outputs": []
    },
    {
      "cell_type": "markdown",
      "source": [
        "### 對數值特徵進行 Log 轉換\n",
        "使用 np.log1p也就是 log(1+x)，因為可以處理 0 的情況"
      ],
      "metadata": {
        "id": "77Sy6v8b5yDD"
      }
    },
    {
      "cell_type": "code",
      "source": [
        "for col in numerical_features:\n",
        "    df[col] = np.log1p(df[col])"
      ],
      "metadata": {
        "id": "tVdIJviZ8UMT"
      },
      "execution_count": null,
      "outputs": []
    },
    {
      "cell_type": "markdown",
      "source": [
        "##數值資料標準化"
      ],
      "metadata": {
        "id": "M1Wpyd6m1Em5"
      }
    },
    {
      "cell_type": "code",
      "source": [
        "# 建立 scaler 物件\n",
        "scaler = StandardScaler()\n",
        "\n",
        "# ==========================\n",
        "# 請修改以下程式碼\n",
        "# 說明: 對數值特徵做標準化\n",
        "df[] = scaler.fit_transform(df[])\n",
        "# =========================="
      ],
      "metadata": {
        "id": "IZulo0tO0Kud"
      },
      "execution_count": null,
      "outputs": []
    },
    {
      "cell_type": "code",
      "source": [
        "# 數值欄位轉 float（浮點數）\n",
        "df[numerical_features] = df[numerical_features].astype(float)"
      ],
      "metadata": {
        "id": "hc-maUY_5WYy"
      },
      "execution_count": null,
      "outputs": []
    },
    {
      "cell_type": "markdown",
      "source": [
        "#K-means分群實作\n",
        "\n"
      ],
      "metadata": {
        "id": "okv6w75UC-RQ"
      }
    },
    {
      "cell_type": "code",
      "source": [
        "# 取出要用來分群的數值型特徵\n",
        "df_clustering = df[numerical_features]\n",
        "\n",
        "# ==========================\n",
        "# 修改以下程式碼中的 n_clusters 的數值，n_clusters → 設定要分成幾群\n",
        "# 說明: 透過調整分群數量，觀察是否能得到更好的分群結果\n",
        "kmeans = KMeans(n_clusters=10, random_state=42, n_init=10)\n",
        "\n",
        "# 補充：random_state=42 → 固定隨機種子，讓結果可以重現；n_init=10 → 每次隨機選 10 組初始中心，取表現最好的結果\n",
        "# ==========================\n",
        "\n",
        "clusters = kmeans.fit_predict(df_clustering)\n",
        "df['cluster'] = clusters  # 把分群結果加回原始資料"
      ],
      "metadata": {
        "id": "ux3QXdwb_jzH"
      },
      "execution_count": null,
      "outputs": []
    },
    {
      "cell_type": "code",
      "source": [
        "# PCA：把複雜的資料（很多特徵）濃縮成2個重點（二維），方便畫圖\n",
        "pca = PCA(n_components=2)\n",
        "X_pca = pca.fit_transform(df_clustering) # Use df_clustering here\n",
        "\n",
        "# 把數字結果轉成表格格式\n",
        "df_pca = pd.DataFrame(data=X_pca, columns=['PCA1', 'PCA2'])\n",
        "df_pca['cluster'] = clusters\n",
        "\n",
        "# 從 KMeans 物件中取得實際分的群數\n",
        "K_CLUSTERS = kmeans.n_clusters\n",
        "\n",
        "# 繪圖：用散佈圖顯示分群結果\n",
        "plt.figure(figsize=(12, 8))\n",
        "sns.scatterplot(\n",
        "    x='PCA1',\n",
        "    y='PCA2',\n",
        "    hue='cluster',\n",
        "    palette=sns.color_palette(\"hsv\", K_CLUSTERS),\n",
        "    data=df_pca,\n",
        "    legend=\"full\",\n",
        "    alpha=0.8\n",
        ")\n",
        "plt.title(f'K-Means result (k={K_CLUSTERS})', fontsize=16)\n",
        "plt.xlabel('PCA1', fontsize=12)\n",
        "plt.ylabel('PCA2', fontsize=12)\n",
        "plt.grid(True)\n",
        "plt.show()"
      ],
      "metadata": {
        "id": "TsgtDB0L_s8h"
      },
      "execution_count": null,
      "outputs": []
    },
    {
      "cell_type": "markdown",
      "source": [
        "# 判斷分群結果：群體特徵比較\n",
        "\n",
        "表格顯示每個群的平均特徵值\n",
        "\n",
        "* 每列 = 一個特徵（價格、評論數、房間數…）\n",
        "* 每欄 = 一個群\n",
        "* 例如：\n",
        "  * cluster 1 的 price = 230 → 代表這群房源的平均價格是 230 元\n",
        "  * cluster 2 的 bedrooms = 1.5 → 代表這群房源平均有 1.5 間房間\n"
      ],
      "metadata": {
        "id": "fU-wqLEx_ypW"
      }
    },
    {
      "cell_type": "code",
      "source": [
        "# ==========================\n",
        "# 請修改以下程式碼\n",
        "# 說明: 選出要分析的數值特徵，請使用與剛才進行分群時相同的特徵\n",
        "numerical_features_to_analyze = [ ]\n",
        "# ==========================\n",
        "\n",
        "# 建立一個新的資料表，只保留要分析的特徵和分群標籤\n",
        "df_clustered_numerical = df[numerical_features_to_analyze + ['cluster']].copy()\n",
        "\n",
        "# 依照群組計算每個特徵的平均值\n",
        "cluster_means_scaled_logged = df_clustered_numerical.groupby('cluster')[numerical_features_to_analyze].mean()\n",
        "\n",
        "# 把平均值還原回原始的數值（將標準化還原回去）\n",
        "cluster_means_original_scale = scaler.inverse_transform(cluster_means_scaled_logged)\n",
        "\n",
        "# 將還原後的平均值轉成表格\n",
        "cluster_profile_df = pd.DataFrame(cluster_means_original_scale, columns=numerical_features_to_analyze)\n",
        "\n",
        "# 把 log1p 還原成原始數值（np.expm1 = 反 log1p）\n",
        "for col in numerical_features_to_analyze:\n",
        "    cluster_profile_df[col] = np.expm1(cluster_profile_df[col])\n",
        "\n",
        "# 把群組編號加到表格裡面\n",
        "cluster_profile_df['cluster'] = cluster_means_scaled_logged.index\n",
        "\n",
        "# 設定 cluster 為索引，方便查看每個群的特徵\n",
        "cluster_profile_full = cluster_profile_df.set_index('cluster')\n",
        "\n",
        "# 印出每個群的平均特徵值\n",
        "print(\"Cluster Profiles:\")\n",
        "print(cluster_profile_full.T.round(2))"
      ],
      "metadata": {
        "id": "LmB1HQ61_y5B"
      },
      "execution_count": null,
      "outputs": []
    }
  ]
}