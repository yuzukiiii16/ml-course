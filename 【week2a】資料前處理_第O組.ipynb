{
  "nbformat": 4,
  "nbformat_minor": 0,
  "metadata": {
    "colab": {
      "provenance": [],
      "include_colab_link": true
    },
    "kernelspec": {
      "name": "python3",
      "display_name": "Python 3"
    },
    "language_info": {
      "name": "python"
    }
  },
  "cells": [
    {
      "cell_type": "markdown",
      "metadata": {
        "id": "view-in-github",
        "colab_type": "text"
      },
      "source": [
        "<a href=\"https://colab.research.google.com/github/yuzukiiii16/ml-course/blob/main/%E3%80%90week2a%E3%80%91%E8%B3%87%E6%96%99%E5%89%8D%E8%99%95%E7%90%86_%E7%AC%ACO%E7%B5%84.ipynb\" target=\"_parent\"><img src=\"https://colab.research.google.com/assets/colab-badge.svg\" alt=\"Open In Colab\"/></a>"
      ]
    },
    {
      "cell_type": "markdown",
      "source": [
        "# 資料集："
      ],
      "metadata": {
        "id": "7A7oZ1flcvq5"
      }
    },
    {
      "cell_type": "markdown",
      "source": [
        "https://www.kaggle.com/datasets/vrindakallu/new-york-dataset?resource=download"
      ],
      "metadata": {
        "id": "2FmfyBw4Ri4s"
      }
    },
    {
      "cell_type": "markdown",
      "source": [
        "# 匯入處理資料所需的函式庫"
      ],
      "metadata": {
        "id": "ZcsNyYv7f6kU"
      }
    },
    {
      "cell_type": "code",
      "execution_count": null,
      "metadata": {
        "id": "mHWWt2v5HRtC"
      },
      "outputs": [],
      "source": [
        "import pandas as pd\n",
        "from sklearn.preprocessing import LabelEncoder"
      ]
    },
    {
      "cell_type": "markdown",
      "source": [
        "# 讀kaggle資料集\n",
        "\n"
      ],
      "metadata": {
        "id": "cHRXnoy7e09H"
      }
    },
    {
      "cell_type": "code",
      "source": [
        "# 安裝 kagglehub\n",
        "!pip install -q kagglehub[pandas-datasets]"
      ],
      "metadata": {
        "id": "5llv7cVW46RH"
      },
      "execution_count": null,
      "outputs": []
    },
    {
      "cell_type": "code",
      "source": [
        "# 匯入套件\n",
        "import kagglehub\n",
        "from kagglehub import KaggleDatasetAdapter"
      ],
      "metadata": {
        "id": "uwI2XGOF6jt3"
      },
      "execution_count": null,
      "outputs": []
    },
    {
      "cell_type": "code",
      "source": [
        "# 設定要載入的檔案名稱\n",
        "file_path = \"new_york_listings_2024.csv\"\n",
        "\n",
        "# 使用 kagglehub 下載指定的資料集\n",
        "df = kagglehub.load_dataset(\n",
        "    KaggleDatasetAdapter.PANDAS,\n",
        "    \"vrindakallu/new-york-dataset\",\n",
        "    file_path,\n",
        ")"
      ],
      "metadata": {
        "id": "-WJVnHAg6kiO"
      },
      "execution_count": null,
      "outputs": []
    },
    {
      "cell_type": "markdown",
      "source": [
        "# 顯示資料\n",
        "確認資料是否能正常跑出來\n",
        "\n",
        "df.head()預設會顯示前 5 行資料，如果想顯示更多，可以在括號內填數字，例如100就會顯示前 100 行資料。"
      ],
      "metadata": {
        "id": "vHRdqvz-eCVN"
      }
    },
    {
      "cell_type": "code",
      "source": [
        "df.head()"
      ],
      "metadata": {
        "id": "JCDHGGE_LWIC"
      },
      "execution_count": null,
      "outputs": []
    },
    {
      "cell_type": "markdown",
      "source": [
        "# 檢查資料的基本資訊\n",
        "\n",
        "Non-Null Count：非遺漏值數量\n",
        "\n",
        "Data Type：資料型態\n",
        "* int64：整數型資料。\n",
        "* float64：浮點數型資料。\n",
        "* object：文字型資料。"
      ],
      "metadata": {
        "id": "fYzbBr9dCpmD"
      }
    },
    {
      "cell_type": "code",
      "source": [
        "print(df.info())"
      ],
      "metadata": {
        "id": "oAzsUKvCBOpC"
      },
      "execution_count": null,
      "outputs": []
    },
    {
      "cell_type": "markdown",
      "source": [
        "# 刪除不必要的欄位"
      ],
      "metadata": {
        "id": "iEPb4rosPYTW"
      }
    },
    {
      "cell_type": "code",
      "source": [
        "# ==========================\n",
        "# 請修改以下程式碼\n",
        "# ==========================\n",
        "# 說明: 請判斷並填入需要刪除的欄位名稱，如：['column_name1', 'column_name2']\n",
        "df = df.drop(columns=['column_name1', 'column_name2'])"
      ],
      "metadata": {
        "id": "4YU2CE-hPcJI"
      },
      "execution_count": null,
      "outputs": []
    },
    {
      "cell_type": "code",
      "source": [
        "df.head()"
      ],
      "metadata": {
        "id": "I5zwpyoXP8HG"
      },
      "execution_count": null,
      "outputs": []
    },
    {
      "cell_type": "markdown",
      "source": [
        "# 處理非數值資料"
      ],
      "metadata": {
        "id": "i_8Y0ix_lYVL"
      }
    },
    {
      "cell_type": "markdown",
      "source": [
        "bedrooms中的 \"studio\" 表示開放式空間，沒有獨立臥室。"
      ],
      "metadata": {
        "id": "w8xR5Vi1GYHH"
      }
    },
    {
      "cell_type": "code",
      "source": [
        "# ==========================\n",
        "# 請修改以下程式碼\n",
        "# ==========================\n",
        "# 說明: 請將studio替換為合適的數值\n",
        "df['______'] = df['______'].replace('______', ______)"
      ],
      "metadata": {
        "id": "ePr8sdafSawi"
      },
      "execution_count": null,
      "outputs": []
    },
    {
      "cell_type": "code",
      "source": [
        "# 檢查是否成功處理\n",
        "df.head()"
      ],
      "metadata": {
        "id": "rmBbolyvS2Ya"
      },
      "execution_count": null,
      "outputs": []
    },
    {
      "cell_type": "markdown",
      "source": [
        "將非數值資料轉為數值資料"
      ],
      "metadata": {
        "id": "7HEmOFm8GZwH"
      }
    },
    {
      "cell_type": "code",
      "source": [
        "labelencoder = LabelEncoder() # LabelEncoder 用於將分類標籤轉換為數值\n",
        "\n",
        "# ==========================\n",
        "# 請修改以下程式碼\n",
        "# ==========================\n",
        "# 說明: 為每個欄位建立不同的 LabelEncoder。並使用簡單易懂的命名（如 le1、le2 等），如果有多個欄位需要處理，請自行增加編碼器。\n",
        "編碼器名稱 = LabelEncoder()\n",
        "\n",
        "# 說明: 將欄位轉換，如果有多個欄位需要處理，請自行增加\n",
        "df['______'] = ____編碼器名稱__.fit_transform(df['______'])"
      ],
      "metadata": {
        "id": "kYi3PkQ7ULcq"
      },
      "execution_count": null,
      "outputs": []
    },
    {
      "cell_type": "code",
      "source": [
        "df.head()"
      ],
      "metadata": {
        "id": "iJ3ptjXuVZ9m"
      },
      "execution_count": null,
      "outputs": []
    },
    {
      "cell_type": "code",
      "source": [
        "# 印出 LabelEncoder 轉換後的對應標籤\n",
        "def print_label_mapping(encoder, name):\n",
        "    print(f\"{name} 對應：\")\n",
        "    for i, label in enumerate(encoder.classes_):\n",
        "        print(f\"  {i} -> {label}\")\n",
        "    print(\"\")\n",
        "\n",
        "# ==========================\n",
        "# 請修改以下程式碼\n",
        "# ==========================\n",
        "# 說明: 如果有多個欄位需要處理，請自行增加\n",
        "print_label_mapping(編碼器名稱, \"欄位\")"
      ],
      "metadata": {
        "id": "rMKjXyVE-ssB"
      },
      "execution_count": null,
      "outputs": []
    },
    {
      "cell_type": "markdown",
      "source": [
        "# 清理遺漏值"
      ],
      "metadata": {
        "id": "4f1nF823SUNk"
      }
    },
    {
      "cell_type": "markdown",
      "source": [
        "### rating\n",
        "在 rating 欄位中，\"New\" 和 \"No rating\" 並未提供實際的評分數值，因此可視為缺漏值處理\n",
        "\n",
        "不考慮直接刪除，因為這些房型依然存在，因此可以使用中位數或平均值取代"
      ],
      "metadata": {
        "id": "qHuMeoy7ZnNI"
      }
    },
    {
      "cell_type": "code",
      "source": [
        "# ==========================\n",
        "# 請修改以下程式碼\n",
        "# ==========================\n",
        "#說明： 請找出有遺漏值或不正常的值的欄位，並使用中位數取代該值\n",
        "\n",
        "# 欄位轉換為數字，這樣才能順利進行統計分析（如計算平均數、中位數等），並處理可能存在的非數字資料（如字串或錯誤資料），這些會被轉換為 NaN\n",
        "df['____'] = pd.to_numeric(df['____'], errors='coerce')\n",
        "\n",
        "\n",
        "# 說明: 請用中位數來取代\n",
        "median_rating = df['____'].____() #計算中位數\n",
        "df['____'] = pd.to_numeric(df['____'], errors='coerce').fillna(____) #取代"
      ],
      "metadata": {
        "id": "fmzoOqUSSSHx"
      },
      "execution_count": null,
      "outputs": []
    },
    {
      "cell_type": "code",
      "source": [
        "df.head()"
      ],
      "metadata": {
        "id": "f-bzLBnRx5Dc"
      },
      "execution_count": null,
      "outputs": []
    },
    {
      "cell_type": "markdown",
      "source": [
        "### baths\n",
        "其中的 “Not specified” 表示該房源未填寫浴室數量，因此可視為資料缺漏。\n",
        "\n",
        "不考慮直接刪除，因為這些房型依然存在，因此可以使用中位數或平均值取代"
      ],
      "metadata": {
        "id": "Mn7VsHgPZx7M"
      }
    },
    {
      "cell_type": "code",
      "source": [
        "# 將 'baths' 欄位轉換為數字\n",
        "df['baths'] = pd.to_numeric(df['baths'], errors='coerce')\n",
        "\n",
        "# ==========================\n",
        "# 請在以下填入程式碼\n",
        "# ==========================\n",
        "# 說明: 請用中位數來取代baths中的遺漏值"
      ],
      "metadata": {
        "id": "UWqbu0IUbIHd"
      },
      "execution_count": null,
      "outputs": []
    },
    {
      "cell_type": "code",
      "source": [
        "df.head()"
      ],
      "metadata": {
        "id": "XIdk-hdUyJbe"
      },
      "execution_count": null,
      "outputs": []
    },
    {
      "cell_type": "markdown",
      "source": [
        "# 刪除極端值"
      ],
      "metadata": {
        "id": "YVnbc9NMXvx3"
      }
    },
    {
      "cell_type": "markdown",
      "source": [
        "### price\n",
        "\n",
        "價錢差距太大會影響模型判斷"
      ],
      "metadata": {
        "id": "GHCyN7BInFm7"
      }
    },
    {
      "cell_type": "code",
      "source": [
        "# 顯示 price 欄位的基本統計資訊\n",
        "print(df['price'].describe())"
      ],
      "metadata": {
        "id": "UaSzu3nqXzzI"
      },
      "execution_count": null,
      "outputs": []
    },
    {
      "cell_type": "code",
      "source": [
        "# 查看房價的百分位數（1%、5%、25%、50%、75%、95%、99%）\n",
        "print(df['price'].quantile([0.01, 0.05, 0.25, 0.5, 0.75, 0.95, 0.99]))"
      ],
      "metadata": {
        "id": "Ij7O4WhvqOJ4"
      },
      "execution_count": null,
      "outputs": []
    },
    {
      "cell_type": "code",
      "source": [
        "# ==========================\n",
        "# 請修改以下程式碼\n",
        "# ==========================\n",
        "# 說明: 移除房價過低或過高的極端值，請根據觀察結果填入範圍\n",
        "df = df[(df['price'] >= ______) & (df['price'] <= ______)]\n"
      ],
      "metadata": {
        "id": "XgIjNDViqNrP"
      },
      "execution_count": null,
      "outputs": []
    },
    {
      "cell_type": "code",
      "source": [
        "# 檢查是否成功刪除極端值\n",
        "print(df['price'].describe())"
      ],
      "metadata": {
        "id": "i9F98Ai1TCKh"
      },
      "execution_count": null,
      "outputs": []
    },
    {
      "cell_type": "markdown",
      "source": [
        "### minimun_nights"
      ],
      "metadata": {
        "id": "6Sx52j8RyHFQ"
      }
    },
    {
      "cell_type": "code",
      "source": [
        "# 顯示 minimum_nights 欄位的基本統計資訊\n",
        "print(df['minimum_nights'].describe())"
      ],
      "metadata": {
        "id": "f0yPpqTp0A6C"
      },
      "execution_count": null,
      "outputs": []
    },
    {
      "cell_type": "code",
      "source": [
        "# ==========================\n",
        "# 請在以下填入程式碼\n",
        "# ==========================\n",
        "# 說明: 移除不合理的天數"
      ],
      "metadata": {
        "id": "xs2__32t1Kyz"
      },
      "execution_count": null,
      "outputs": []
    },
    {
      "cell_type": "code",
      "source": [
        "# 檢查是否成功刪除極端值\n",
        "print(df['minimum_nights'].describe())"
      ],
      "metadata": {
        "id": "-_4BQR4v1ZzC"
      },
      "execution_count": null,
      "outputs": []
    },
    {
      "cell_type": "markdown",
      "source": [
        "### availability_365"
      ],
      "metadata": {
        "id": "M7dRZdtybHDw"
      }
    },
    {
      "cell_type": "code",
      "source": [
        "# ==========================\n",
        "# 請在以下填入程式碼\n",
        "# ==========================\n",
        "# 說明：請依序完成以下步驟：\n",
        "# 1. 檢查 minimum_nights 欄位中是否有不合理的數值\n",
        "# 2. 移除這些不合理的資料\n",
        "# 3. 再次檢查 minimum_nights，確認是否已成功移除異常值"
      ],
      "metadata": {
        "id": "LtoP0G6qse0S"
      },
      "execution_count": null,
      "outputs": []
    },
    {
      "cell_type": "markdown",
      "source": [
        "# 下載處理好的資料"
      ],
      "metadata": {
        "id": "DoDPb5GVahw5"
      }
    },
    {
      "cell_type": "code",
      "source": [
        "df.to_csv(\"New_York_Airbnb_Open_Data_2024.csv\", index=False, encoding=\"utf-8-sig\")"
      ],
      "metadata": {
        "id": "tu4O0p8makYv"
      },
      "execution_count": null,
      "outputs": []
    },
    {
      "cell_type": "code",
      "source": [
        "from google.colab import files\n",
        "files.download(\"New_York_Airbnb_Open_Data_2024.csv\")"
      ],
      "metadata": {
        "id": "3yaarFRaanNH"
      },
      "execution_count": null,
      "outputs": []
    },
    {
      "cell_type": "markdown",
      "source": [
        "⭐⭐⭐\n",
        "\n",
        "最後，請將下載好的檔案用 Excel 開啟，並另存為 UTF-8 編碼的 CSV 檔，以避免未來讀取時出現亂碼或錯誤。\n",
        "\n",
        "接著，請將這份 CSV 檔案上傳到你的 Google Drive，以免之後找不到檔案，又必須重新處理一次。"
      ],
      "metadata": {
        "id": "Zisw4LzWbKqs"
      }
    }
  ]
}