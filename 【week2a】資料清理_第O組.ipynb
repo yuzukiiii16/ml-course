{
  "nbformat": 4,
  "nbformat_minor": 0,
  "metadata": {
    "colab": {
      "provenance": [],
      "include_colab_link": true
    },
    "kernelspec": {
      "name": "python3",
      "display_name": "Python 3"
    },
    "language_info": {
      "name": "python"
    }
  },
  "cells": [
    {
      "cell_type": "markdown",
      "metadata": {
        "id": "view-in-github",
        "colab_type": "text"
      },
      "source": [
        "<a href=\"https://colab.research.google.com/github/yuzukiiii16/ml-course/blob/main/%E3%80%90week2a%E3%80%91%E8%B3%87%E6%96%99%E6%B8%85%E7%90%86_%E7%AC%ACO%E7%B5%84.ipynb\" target=\"_parent\"><img src=\"https://colab.research.google.com/assets/colab-badge.svg\" alt=\"Open In Colab\"/></a>"
      ]
    },
    {
      "cell_type": "markdown",
      "source": [
        "<h1>說明：</h1>\n",
        "<h3>你需要修改的地方會用底下的標記框出來，請依照註解的提示修改</h3>\n",
        "\n",
        "\n",
        "\n",
        "```\n",
        "# ==========================\n",
        "\n",
        "\n",
        "# ==========================\n",
        "```\n",
        "\n"
      ],
      "metadata": {
        "id": "JIWAtOBJbGQB"
      }
    },
    {
      "cell_type": "markdown",
      "source": [
        "# 資料集："
      ],
      "metadata": {
        "id": "7A7oZ1flcvq5"
      }
    },
    {
      "cell_type": "markdown",
      "source": [
        "https://www.kaggle.com/datasets/vrindakallu/new-york-dataset?resource=download"
      ],
      "metadata": {
        "id": "2FmfyBw4Ri4s"
      }
    },
    {
      "cell_type": "markdown",
      "source": [
        "# 匯入處理資料所需的函式庫"
      ],
      "metadata": {
        "id": "ZcsNyYv7f6kU"
      }
    },
    {
      "cell_type": "code",
      "execution_count": 5,
      "metadata": {
        "id": "mHWWt2v5HRtC"
      },
      "outputs": [],
      "source": [
        "import pandas as pd\n",
        "from sklearn.preprocessing import LabelEncoder\n",
        "import matplotlib.pyplot as plt\n",
        "import seaborn as sns"
      ]
    },
    {
      "cell_type": "markdown",
      "source": [
        "# 讀kaggle資料集\n",
        "\n"
      ],
      "metadata": {
        "id": "cHRXnoy7e09H"
      }
    },
    {
      "cell_type": "code",
      "source": [
        "# 安裝 kagglehub\n",
        "!pip install -q kagglehub[pandas-datasets]"
      ],
      "metadata": {
        "id": "5llv7cVW46RH"
      },
      "execution_count": 2,
      "outputs": []
    },
    {
      "cell_type": "code",
      "source": [
        "# 匯入套件\n",
        "import kagglehub\n",
        "from kagglehub import KaggleDatasetAdapter"
      ],
      "metadata": {
        "id": "uwI2XGOF6jt3"
      },
      "execution_count": 3,
      "outputs": []
    },
    {
      "cell_type": "code",
      "source": [
        "# 設定要載入的檔案名稱\n",
        "file_path = \"new_york_listings_2024.csv\"\n",
        "\n",
        "# 使用 kagglehub 下載指定的資料集\n",
        "df = kagglehub.load_dataset(\n",
        "    KaggleDatasetAdapter.PANDAS,\n",
        "    \"vrindakallu/new-york-dataset\",\n",
        "    file_path,\n",
        ")"
      ],
      "metadata": {
        "id": "-WJVnHAg6kiO",
        "colab": {
          "base_uri": "https://localhost:8080/"
        },
        "outputId": "90b806f7-adae-41a4-f3d6-b57e37c146ee"
      },
      "execution_count": 4,
      "outputs": [
        {
          "output_type": "stream",
          "name": "stderr",
          "text": [
            "/tmp/ipython-input-2069323496.py:5: DeprecationWarning: Use dataset_load() instead of load_dataset(). load_dataset() will be removed in a future version.\n",
            "  df = kagglehub.load_dataset(\n"
          ]
        },
        {
          "output_type": "stream",
          "name": "stdout",
          "text": [
            "Downloading from https://www.kaggle.com/api/v1/datasets/download/vrindakallu/new-york-dataset?dataset_version_number=3&file_name=new_york_listings_2024.csv...\n"
          ]
        },
        {
          "output_type": "stream",
          "name": "stderr",
          "text": [
            "100%|██████████| 1.08M/1.08M [00:00<00:00, 62.8MB/s]"
          ]
        },
        {
          "output_type": "stream",
          "name": "stdout",
          "text": [
            "Extracting zip of new_york_listings_2024.csv...\n"
          ]
        },
        {
          "output_type": "stream",
          "name": "stderr",
          "text": [
            "\n"
          ]
        }
      ]
    },
    {
      "cell_type": "markdown",
      "source": [
        "# 顯示資料\n",
        "確認資料是否能正常跑出來\n",
        "\n",
        "df.head()預設會顯示前 5 行資料，如果想顯示更多，可以在括號內填數字，例如100就會顯示前 100 行資料。"
      ],
      "metadata": {
        "id": "vHRdqvz-eCVN"
      }
    },
    {
      "cell_type": "code",
      "source": [
        "df.head()"
      ],
      "metadata": {
        "id": "JCDHGGE_LWIC",
        "colab": {
          "base_uri": "https://localhost:8080/",
          "height": 724
        },
        "outputId": "75a72adb-7ab3-405e-eb08-e61cdb3639f3"
      },
      "execution_count": 6,
      "outputs": [
        {
          "output_type": "execute_result",
          "data": {
            "text/plain": [
              "                   id                                               name  \\\n",
              "0             1312228         Rental unit in Brooklyn · ★5.0 · 1 bedroom   \n",
              "1            45277537  Rental unit in New York · ★4.67 · 2 bedrooms ·...   \n",
              "2  971353993633883038  Rental unit in New York · ★4.17 · 1 bedroom · ...   \n",
              "3             3857863  Rental unit in New York · ★4.64 · 1 bedroom · ...   \n",
              "4            40896611  Condo in New York · ★4.91 · Studio · 1 bed · 1...   \n",
              "\n",
              "     host_id           host_name neighbourhood_group       neighbourhood  \\\n",
              "0    7130382              Walter            Brooklyn        Clinton Hill   \n",
              "1   51501835            Jeniffer           Manhattan      Hell's Kitchen   \n",
              "2  528871354              Joshua           Manhattan             Chelsea   \n",
              "3   19902271  John And Catherine           Manhattan  Washington Heights   \n",
              "4   61391963      Stay With Vibe           Manhattan         Murray Hill   \n",
              "\n",
              "    latitude  longitude        room_type  price  ...  last_review  \\\n",
              "0  40.683710 -73.964610     Private room   55.0  ...   2015-12-20   \n",
              "1  40.766610 -73.988100  Entire home/apt  144.0  ...   2023-05-01   \n",
              "2  40.750764 -73.994605  Entire home/apt  187.0  ...   2023-12-18   \n",
              "3  40.835600 -73.942500     Private room  120.0  ...   2023-09-17   \n",
              "4  40.751120 -73.978600  Entire home/apt   85.0  ...   2023-12-03   \n",
              "\n",
              "   reviews_per_month calculated_host_listings_count  availability_365  \\\n",
              "0               0.03                              1                 0   \n",
              "1               0.24                            139               364   \n",
              "2               1.67                              1               343   \n",
              "3               1.38                              2               363   \n",
              "4               0.24                            133               335   \n",
              "\n",
              "   number_of_reviews_ltm     license  rating bedrooms beds          baths  \n",
              "0                      0  No License    5.0         1    1  Not specified  \n",
              "1                      2  No License   4.67         2    1              1  \n",
              "2                      6      Exempt   4.17         1    2              1  \n",
              "3                     12  No License   4.64         1    1              1  \n",
              "4                      3  No License   4.91    Studio    1              1  \n",
              "\n",
              "[5 rows x 22 columns]"
            ],
            "text/html": [
              "\n",
              "  <div id=\"df-102c1bcc-57e0-45f0-a738-d942bdfcc00b\" class=\"colab-df-container\">\n",
              "    <div>\n",
              "<style scoped>\n",
              "    .dataframe tbody tr th:only-of-type {\n",
              "        vertical-align: middle;\n",
              "    }\n",
              "\n",
              "    .dataframe tbody tr th {\n",
              "        vertical-align: top;\n",
              "    }\n",
              "\n",
              "    .dataframe thead th {\n",
              "        text-align: right;\n",
              "    }\n",
              "</style>\n",
              "<table border=\"1\" class=\"dataframe\">\n",
              "  <thead>\n",
              "    <tr style=\"text-align: right;\">\n",
              "      <th></th>\n",
              "      <th>id</th>\n",
              "      <th>name</th>\n",
              "      <th>host_id</th>\n",
              "      <th>host_name</th>\n",
              "      <th>neighbourhood_group</th>\n",
              "      <th>neighbourhood</th>\n",
              "      <th>latitude</th>\n",
              "      <th>longitude</th>\n",
              "      <th>room_type</th>\n",
              "      <th>price</th>\n",
              "      <th>...</th>\n",
              "      <th>last_review</th>\n",
              "      <th>reviews_per_month</th>\n",
              "      <th>calculated_host_listings_count</th>\n",
              "      <th>availability_365</th>\n",
              "      <th>number_of_reviews_ltm</th>\n",
              "      <th>license</th>\n",
              "      <th>rating</th>\n",
              "      <th>bedrooms</th>\n",
              "      <th>beds</th>\n",
              "      <th>baths</th>\n",
              "    </tr>\n",
              "  </thead>\n",
              "  <tbody>\n",
              "    <tr>\n",
              "      <th>0</th>\n",
              "      <td>1312228</td>\n",
              "      <td>Rental unit in Brooklyn · ★5.0 · 1 bedroom</td>\n",
              "      <td>7130382</td>\n",
              "      <td>Walter</td>\n",
              "      <td>Brooklyn</td>\n",
              "      <td>Clinton Hill</td>\n",
              "      <td>40.683710</td>\n",
              "      <td>-73.964610</td>\n",
              "      <td>Private room</td>\n",
              "      <td>55.0</td>\n",
              "      <td>...</td>\n",
              "      <td>2015-12-20</td>\n",
              "      <td>0.03</td>\n",
              "      <td>1</td>\n",
              "      <td>0</td>\n",
              "      <td>0</td>\n",
              "      <td>No License</td>\n",
              "      <td>5.0</td>\n",
              "      <td>1</td>\n",
              "      <td>1</td>\n",
              "      <td>Not specified</td>\n",
              "    </tr>\n",
              "    <tr>\n",
              "      <th>1</th>\n",
              "      <td>45277537</td>\n",
              "      <td>Rental unit in New York · ★4.67 · 2 bedrooms ·...</td>\n",
              "      <td>51501835</td>\n",
              "      <td>Jeniffer</td>\n",
              "      <td>Manhattan</td>\n",
              "      <td>Hell's Kitchen</td>\n",
              "      <td>40.766610</td>\n",
              "      <td>-73.988100</td>\n",
              "      <td>Entire home/apt</td>\n",
              "      <td>144.0</td>\n",
              "      <td>...</td>\n",
              "      <td>2023-05-01</td>\n",
              "      <td>0.24</td>\n",
              "      <td>139</td>\n",
              "      <td>364</td>\n",
              "      <td>2</td>\n",
              "      <td>No License</td>\n",
              "      <td>4.67</td>\n",
              "      <td>2</td>\n",
              "      <td>1</td>\n",
              "      <td>1</td>\n",
              "    </tr>\n",
              "    <tr>\n",
              "      <th>2</th>\n",
              "      <td>971353993633883038</td>\n",
              "      <td>Rental unit in New York · ★4.17 · 1 bedroom · ...</td>\n",
              "      <td>528871354</td>\n",
              "      <td>Joshua</td>\n",
              "      <td>Manhattan</td>\n",
              "      <td>Chelsea</td>\n",
              "      <td>40.750764</td>\n",
              "      <td>-73.994605</td>\n",
              "      <td>Entire home/apt</td>\n",
              "      <td>187.0</td>\n",
              "      <td>...</td>\n",
              "      <td>2023-12-18</td>\n",
              "      <td>1.67</td>\n",
              "      <td>1</td>\n",
              "      <td>343</td>\n",
              "      <td>6</td>\n",
              "      <td>Exempt</td>\n",
              "      <td>4.17</td>\n",
              "      <td>1</td>\n",
              "      <td>2</td>\n",
              "      <td>1</td>\n",
              "    </tr>\n",
              "    <tr>\n",
              "      <th>3</th>\n",
              "      <td>3857863</td>\n",
              "      <td>Rental unit in New York · ★4.64 · 1 bedroom · ...</td>\n",
              "      <td>19902271</td>\n",
              "      <td>John And Catherine</td>\n",
              "      <td>Manhattan</td>\n",
              "      <td>Washington Heights</td>\n",
              "      <td>40.835600</td>\n",
              "      <td>-73.942500</td>\n",
              "      <td>Private room</td>\n",
              "      <td>120.0</td>\n",
              "      <td>...</td>\n",
              "      <td>2023-09-17</td>\n",
              "      <td>1.38</td>\n",
              "      <td>2</td>\n",
              "      <td>363</td>\n",
              "      <td>12</td>\n",
              "      <td>No License</td>\n",
              "      <td>4.64</td>\n",
              "      <td>1</td>\n",
              "      <td>1</td>\n",
              "      <td>1</td>\n",
              "    </tr>\n",
              "    <tr>\n",
              "      <th>4</th>\n",
              "      <td>40896611</td>\n",
              "      <td>Condo in New York · ★4.91 · Studio · 1 bed · 1...</td>\n",
              "      <td>61391963</td>\n",
              "      <td>Stay With Vibe</td>\n",
              "      <td>Manhattan</td>\n",
              "      <td>Murray Hill</td>\n",
              "      <td>40.751120</td>\n",
              "      <td>-73.978600</td>\n",
              "      <td>Entire home/apt</td>\n",
              "      <td>85.0</td>\n",
              "      <td>...</td>\n",
              "      <td>2023-12-03</td>\n",
              "      <td>0.24</td>\n",
              "      <td>133</td>\n",
              "      <td>335</td>\n",
              "      <td>3</td>\n",
              "      <td>No License</td>\n",
              "      <td>4.91</td>\n",
              "      <td>Studio</td>\n",
              "      <td>1</td>\n",
              "      <td>1</td>\n",
              "    </tr>\n",
              "  </tbody>\n",
              "</table>\n",
              "<p>5 rows × 22 columns</p>\n",
              "</div>\n",
              "    <div class=\"colab-df-buttons\">\n",
              "\n",
              "  <div class=\"colab-df-container\">\n",
              "    <button class=\"colab-df-convert\" onclick=\"convertToInteractive('df-102c1bcc-57e0-45f0-a738-d942bdfcc00b')\"\n",
              "            title=\"Convert this dataframe to an interactive table.\"\n",
              "            style=\"display:none;\">\n",
              "\n",
              "  <svg xmlns=\"http://www.w3.org/2000/svg\" height=\"24px\" viewBox=\"0 -960 960 960\">\n",
              "    <path d=\"M120-120v-720h720v720H120Zm60-500h600v-160H180v160Zm220 220h160v-160H400v160Zm0 220h160v-160H400v160ZM180-400h160v-160H180v160Zm440 0h160v-160H620v160ZM180-180h160v-160H180v160Zm440 0h160v-160H620v160Z\"/>\n",
              "  </svg>\n",
              "    </button>\n",
              "\n",
              "  <style>\n",
              "    .colab-df-container {\n",
              "      display:flex;\n",
              "      gap: 12px;\n",
              "    }\n",
              "\n",
              "    .colab-df-convert {\n",
              "      background-color: #E8F0FE;\n",
              "      border: none;\n",
              "      border-radius: 50%;\n",
              "      cursor: pointer;\n",
              "      display: none;\n",
              "      fill: #1967D2;\n",
              "      height: 32px;\n",
              "      padding: 0 0 0 0;\n",
              "      width: 32px;\n",
              "    }\n",
              "\n",
              "    .colab-df-convert:hover {\n",
              "      background-color: #E2EBFA;\n",
              "      box-shadow: 0px 1px 2px rgba(60, 64, 67, 0.3), 0px 1px 3px 1px rgba(60, 64, 67, 0.15);\n",
              "      fill: #174EA6;\n",
              "    }\n",
              "\n",
              "    .colab-df-buttons div {\n",
              "      margin-bottom: 4px;\n",
              "    }\n",
              "\n",
              "    [theme=dark] .colab-df-convert {\n",
              "      background-color: #3B4455;\n",
              "      fill: #D2E3FC;\n",
              "    }\n",
              "\n",
              "    [theme=dark] .colab-df-convert:hover {\n",
              "      background-color: #434B5C;\n",
              "      box-shadow: 0px 1px 3px 1px rgba(0, 0, 0, 0.15);\n",
              "      filter: drop-shadow(0px 1px 2px rgba(0, 0, 0, 0.3));\n",
              "      fill: #FFFFFF;\n",
              "    }\n",
              "  </style>\n",
              "\n",
              "    <script>\n",
              "      const buttonEl =\n",
              "        document.querySelector('#df-102c1bcc-57e0-45f0-a738-d942bdfcc00b button.colab-df-convert');\n",
              "      buttonEl.style.display =\n",
              "        google.colab.kernel.accessAllowed ? 'block' : 'none';\n",
              "\n",
              "      async function convertToInteractive(key) {\n",
              "        const element = document.querySelector('#df-102c1bcc-57e0-45f0-a738-d942bdfcc00b');\n",
              "        const dataTable =\n",
              "          await google.colab.kernel.invokeFunction('convertToInteractive',\n",
              "                                                    [key], {});\n",
              "        if (!dataTable) return;\n",
              "\n",
              "        const docLinkHtml = 'Like what you see? Visit the ' +\n",
              "          '<a target=\"_blank\" href=https://colab.research.google.com/notebooks/data_table.ipynb>data table notebook</a>'\n",
              "          + ' to learn more about interactive tables.';\n",
              "        element.innerHTML = '';\n",
              "        dataTable['output_type'] = 'display_data';\n",
              "        await google.colab.output.renderOutput(dataTable, element);\n",
              "        const docLink = document.createElement('div');\n",
              "        docLink.innerHTML = docLinkHtml;\n",
              "        element.appendChild(docLink);\n",
              "      }\n",
              "    </script>\n",
              "  </div>\n",
              "\n",
              "\n",
              "    <div id=\"df-de893cce-4ba6-44d4-98c4-8db21548b858\">\n",
              "      <button class=\"colab-df-quickchart\" onclick=\"quickchart('df-de893cce-4ba6-44d4-98c4-8db21548b858')\"\n",
              "                title=\"Suggest charts\"\n",
              "                style=\"display:none;\">\n",
              "\n",
              "<svg xmlns=\"http://www.w3.org/2000/svg\" height=\"24px\"viewBox=\"0 0 24 24\"\n",
              "     width=\"24px\">\n",
              "    <g>\n",
              "        <path d=\"M19 3H5c-1.1 0-2 .9-2 2v14c0 1.1.9 2 2 2h14c1.1 0 2-.9 2-2V5c0-1.1-.9-2-2-2zM9 17H7v-7h2v7zm4 0h-2V7h2v10zm4 0h-2v-4h2v4z\"/>\n",
              "    </g>\n",
              "</svg>\n",
              "      </button>\n",
              "\n",
              "<style>\n",
              "  .colab-df-quickchart {\n",
              "      --bg-color: #E8F0FE;\n",
              "      --fill-color: #1967D2;\n",
              "      --hover-bg-color: #E2EBFA;\n",
              "      --hover-fill-color: #174EA6;\n",
              "      --disabled-fill-color: #AAA;\n",
              "      --disabled-bg-color: #DDD;\n",
              "  }\n",
              "\n",
              "  [theme=dark] .colab-df-quickchart {\n",
              "      --bg-color: #3B4455;\n",
              "      --fill-color: #D2E3FC;\n",
              "      --hover-bg-color: #434B5C;\n",
              "      --hover-fill-color: #FFFFFF;\n",
              "      --disabled-bg-color: #3B4455;\n",
              "      --disabled-fill-color: #666;\n",
              "  }\n",
              "\n",
              "  .colab-df-quickchart {\n",
              "    background-color: var(--bg-color);\n",
              "    border: none;\n",
              "    border-radius: 50%;\n",
              "    cursor: pointer;\n",
              "    display: none;\n",
              "    fill: var(--fill-color);\n",
              "    height: 32px;\n",
              "    padding: 0;\n",
              "    width: 32px;\n",
              "  }\n",
              "\n",
              "  .colab-df-quickchart:hover {\n",
              "    background-color: var(--hover-bg-color);\n",
              "    box-shadow: 0 1px 2px rgba(60, 64, 67, 0.3), 0 1px 3px 1px rgba(60, 64, 67, 0.15);\n",
              "    fill: var(--button-hover-fill-color);\n",
              "  }\n",
              "\n",
              "  .colab-df-quickchart-complete:disabled,\n",
              "  .colab-df-quickchart-complete:disabled:hover {\n",
              "    background-color: var(--disabled-bg-color);\n",
              "    fill: var(--disabled-fill-color);\n",
              "    box-shadow: none;\n",
              "  }\n",
              "\n",
              "  .colab-df-spinner {\n",
              "    border: 2px solid var(--fill-color);\n",
              "    border-color: transparent;\n",
              "    border-bottom-color: var(--fill-color);\n",
              "    animation:\n",
              "      spin 1s steps(1) infinite;\n",
              "  }\n",
              "\n",
              "  @keyframes spin {\n",
              "    0% {\n",
              "      border-color: transparent;\n",
              "      border-bottom-color: var(--fill-color);\n",
              "      border-left-color: var(--fill-color);\n",
              "    }\n",
              "    20% {\n",
              "      border-color: transparent;\n",
              "      border-left-color: var(--fill-color);\n",
              "      border-top-color: var(--fill-color);\n",
              "    }\n",
              "    30% {\n",
              "      border-color: transparent;\n",
              "      border-left-color: var(--fill-color);\n",
              "      border-top-color: var(--fill-color);\n",
              "      border-right-color: var(--fill-color);\n",
              "    }\n",
              "    40% {\n",
              "      border-color: transparent;\n",
              "      border-right-color: var(--fill-color);\n",
              "      border-top-color: var(--fill-color);\n",
              "    }\n",
              "    60% {\n",
              "      border-color: transparent;\n",
              "      border-right-color: var(--fill-color);\n",
              "    }\n",
              "    80% {\n",
              "      border-color: transparent;\n",
              "      border-right-color: var(--fill-color);\n",
              "      border-bottom-color: var(--fill-color);\n",
              "    }\n",
              "    90% {\n",
              "      border-color: transparent;\n",
              "      border-bottom-color: var(--fill-color);\n",
              "    }\n",
              "  }\n",
              "</style>\n",
              "\n",
              "      <script>\n",
              "        async function quickchart(key) {\n",
              "          const quickchartButtonEl =\n",
              "            document.querySelector('#' + key + ' button');\n",
              "          quickchartButtonEl.disabled = true;  // To prevent multiple clicks.\n",
              "          quickchartButtonEl.classList.add('colab-df-spinner');\n",
              "          try {\n",
              "            const charts = await google.colab.kernel.invokeFunction(\n",
              "                'suggestCharts', [key], {});\n",
              "          } catch (error) {\n",
              "            console.error('Error during call to suggestCharts:', error);\n",
              "          }\n",
              "          quickchartButtonEl.classList.remove('colab-df-spinner');\n",
              "          quickchartButtonEl.classList.add('colab-df-quickchart-complete');\n",
              "        }\n",
              "        (() => {\n",
              "          let quickchartButtonEl =\n",
              "            document.querySelector('#df-de893cce-4ba6-44d4-98c4-8db21548b858 button');\n",
              "          quickchartButtonEl.style.display =\n",
              "            google.colab.kernel.accessAllowed ? 'block' : 'none';\n",
              "        })();\n",
              "      </script>\n",
              "    </div>\n",
              "\n",
              "    </div>\n",
              "  </div>\n"
            ],
            "application/vnd.google.colaboratory.intrinsic+json": {
              "type": "dataframe",
              "variable_name": "df"
            }
          },
          "metadata": {},
          "execution_count": 6
        }
      ]
    },
    {
      "cell_type": "markdown",
      "source": [
        "# 檢查資料的基本資訊\n",
        "\n",
        "Non-Null Count：非遺漏值數量\n",
        "\n",
        "Data Type：資料型態\n",
        "* int64：整數型資料。\n",
        "* float64：浮點數型資料。\n",
        "* object：文字型資料。"
      ],
      "metadata": {
        "id": "fYzbBr9dCpmD"
      }
    },
    {
      "cell_type": "code",
      "source": [
        "print(df.info())"
      ],
      "metadata": {
        "id": "oAzsUKvCBOpC"
      },
      "execution_count": null,
      "outputs": []
    },
    {
      "cell_type": "markdown",
      "source": [
        "# 刪除不必要的欄位"
      ],
      "metadata": {
        "id": "iEPb4rosPYTW"
      }
    },
    {
      "cell_type": "code",
      "source": [
        "# ==========================\n",
        "# 請修改以下程式碼\n",
        "# ==========================\n",
        "# 說明: 請判斷並填入需要刪除的欄位名稱，如：['column_name1', 'column_name2']\n",
        "df = df.drop(columns=['column_name1', 'column_name2'])"
      ],
      "metadata": {
        "id": "4YU2CE-hPcJI"
      },
      "execution_count": null,
      "outputs": []
    },
    {
      "cell_type": "code",
      "source": [
        "df.head()"
      ],
      "metadata": {
        "id": "I5zwpyoXP8HG"
      },
      "execution_count": null,
      "outputs": []
    },
    {
      "cell_type": "markdown",
      "source": [
        "# 處理非數值資料"
      ],
      "metadata": {
        "id": "i_8Y0ix_lYVL"
      }
    },
    {
      "cell_type": "markdown",
      "source": [
        "bedrooms中的 \"studio\" 表示開放式空間，沒有獨立臥室。"
      ],
      "metadata": {
        "id": "w8xR5Vi1GYHH"
      }
    },
    {
      "cell_type": "code",
      "source": [
        "# ==========================\n",
        "# 請修改以下程式碼\n",
        "# ==========================\n",
        "# 說明: 請將studio替換為合適的數值\n",
        "df['______'] = df['______'].replace('______', ______)"
      ],
      "metadata": {
        "id": "ePr8sdafSawi"
      },
      "execution_count": null,
      "outputs": []
    },
    {
      "cell_type": "code",
      "source": [
        "# 檢查是否成功處理\n",
        "df.head()"
      ],
      "metadata": {
        "id": "rmBbolyvS2Ya"
      },
      "execution_count": null,
      "outputs": []
    },
    {
      "cell_type": "markdown",
      "source": [
        "將非數值資料轉為數值資料"
      ],
      "metadata": {
        "id": "7HEmOFm8GZwH"
      }
    },
    {
      "cell_type": "code",
      "source": [
        "labelencoder = LabelEncoder() # LabelEncoder 用於將分類標籤轉換為數值\n",
        "\n",
        "# ==========================\n",
        "# 請修改以下程式碼\n",
        "# ==========================\n",
        "# 說明: 為每個欄位建立不同的 LabelEncoder。並使用簡單易懂的命名（如 le1、le2 等），如果有多個欄位需要處理，請自行增加編碼器。\n",
        "編碼器名稱 = LabelEncoder()\n",
        "\n",
        "# 說明: 將欄位轉換，如果有多個欄位需要處理，請自行增加\n",
        "df['______'] = ____編碼器名稱__.fit_transform(df['______'])"
      ],
      "metadata": {
        "id": "kYi3PkQ7ULcq"
      },
      "execution_count": null,
      "outputs": []
    },
    {
      "cell_type": "code",
      "source": [
        "df.head()"
      ],
      "metadata": {
        "id": "iJ3ptjXuVZ9m"
      },
      "execution_count": null,
      "outputs": []
    },
    {
      "cell_type": "code",
      "source": [
        "# 印出 LabelEncoder 轉換後的對應標籤\n",
        "def print_label_mapping(encoder, name):\n",
        "    print(f\"{name} 對應：\")\n",
        "    for i, label in enumerate(encoder.classes_):\n",
        "        print(f\"  {i} -> {label}\")\n",
        "    print(\"\")\n",
        "\n",
        "# ==========================\n",
        "# 請修改以下程式碼\n",
        "# ==========================\n",
        "# 說明: 如果有多個欄位需要處理，請自行增加\n",
        "print_label_mapping(編碼器名稱, \"欄位\")"
      ],
      "metadata": {
        "id": "rMKjXyVE-ssB"
      },
      "execution_count": null,
      "outputs": []
    },
    {
      "cell_type": "markdown",
      "source": [
        "# 清理遺漏值"
      ],
      "metadata": {
        "id": "4f1nF823SUNk"
      }
    },
    {
      "cell_type": "markdown",
      "source": [
        "### rating\n",
        "在 rating 欄位中，\"New\" 和 \"No rating\" 並未提供實際的評分數值，因此可視為缺漏值處理\n",
        "\n",
        "不考慮直接刪除，因為這些房型依然存在，因此可以使用中位數或平均值取代"
      ],
      "metadata": {
        "id": "qHuMeoy7ZnNI"
      }
    },
    {
      "cell_type": "code",
      "source": [
        "# ==========================\n",
        "# 請修改以下程式碼\n",
        "# ==========================\n",
        "# 檢查為常態還偏態來決定使用中位數還平均值來取代\n",
        "\n",
        "plt.figure(figsize=(6,4))\n",
        "sns.histplot(df[''], bins=50, kde=True) # 在 df['']的''中填入要檢查的欄位\n",
        "plt.title(f\"Price Distribution\")\n",
        "plt.show()"
      ],
      "metadata": {
        "id": "pmtOJsO4zn5K"
      },
      "execution_count": null,
      "outputs": []
    },
    {
      "cell_type": "code",
      "source": [
        "# ==========================\n",
        "# 請修改以下程式碼\n",
        "# ==========================\n",
        "#說明： 請找出有遺漏值或不正常的值的欄位，並使用中位數取代該值\n",
        "\n",
        "# 欄位轉換為數字，這樣才能順利進行統計分析（如計算平均數、中位數等），並處理可能存在的非數字資料（如字串或錯誤資料），這些會被轉換為 NaN\n",
        "df['____'] = pd.to_numeric(df['____'], errors='coerce')\n",
        "\n",
        "\n",
        "# 請用中位數來取代\n",
        "median_rating = df['____'].____() #計算中位數\n",
        "df['____'] = pd.to_numeric(df['____'], errors='coerce').fillna(____) #取代"
      ],
      "metadata": {
        "id": "fmzoOqUSSSHx"
      },
      "execution_count": null,
      "outputs": []
    },
    {
      "cell_type": "code",
      "source": [
        "df.head()"
      ],
      "metadata": {
        "id": "f-bzLBnRx5Dc"
      },
      "execution_count": null,
      "outputs": []
    },
    {
      "cell_type": "markdown",
      "source": [
        "### baths\n",
        "其中的 “Not specified” 表示該房源未填寫浴室數量，因此可視為資料缺漏。\n",
        "\n",
        "不考慮直接刪除，因為這些房型依然存在，因此可以使用中位數或平均值取代"
      ],
      "metadata": {
        "id": "Mn7VsHgPZx7M"
      }
    },
    {
      "cell_type": "code",
      "source": [
        "# ==========================\n",
        "# 請修改以下程式碼\n",
        "# ==========================\n",
        "# 檢查為常態還偏態來決定使用中位數還平均值來取代\n",
        "\n",
        "plt.figure(figsize=(6,4))\n",
        "sns.histplot(df[''], bins=50, kde=True) # 在 df['']的''中填入要檢查的欄位\n",
        "plt.title(f\"Price Distribution\")\n",
        "plt.show()"
      ],
      "metadata": {
        "id": "HGK7TDCy0GX-"
      },
      "execution_count": null,
      "outputs": []
    },
    {
      "cell_type": "code",
      "source": [
        "# 將 'baths' 欄位轉換為數字\n",
        "df['baths'] = pd.to_numeric(df['baths'], errors='coerce')\n",
        "\n",
        "# ==========================\n",
        "# 請在以下填入程式碼\n",
        "# ==========================\n",
        "# 說明: 請用ＯＯ數來取代baths中的遺漏值"
      ],
      "metadata": {
        "id": "UWqbu0IUbIHd"
      },
      "execution_count": null,
      "outputs": []
    },
    {
      "cell_type": "code",
      "source": [
        "df.head()"
      ],
      "metadata": {
        "id": "XIdk-hdUyJbe"
      },
      "execution_count": null,
      "outputs": []
    },
    {
      "cell_type": "markdown",
      "source": [
        "# 刪除極端值"
      ],
      "metadata": {
        "id": "YVnbc9NMXvx3"
      }
    },
    {
      "cell_type": "markdown",
      "source": [
        "### price\n",
        "\n",
        "價錢差距太大會影響模型判斷"
      ],
      "metadata": {
        "id": "GHCyN7BInFm7"
      }
    },
    {
      "cell_type": "code",
      "source": [
        "# 顯示 price 欄位的基本統計資訊\n",
        "print(df['price'].describe())"
      ],
      "metadata": {
        "id": "UaSzu3nqXzzI"
      },
      "execution_count": null,
      "outputs": []
    },
    {
      "cell_type": "code",
      "source": [
        "# 查看房價的百分位數（1%、5%、25%、50%、75%、95%、99%）\n",
        "print(df['price'].quantile([0.01, 0.05, 0.25, 0.5, 0.75, 0.95, 0.99]))"
      ],
      "metadata": {
        "id": "Ij7O4WhvqOJ4"
      },
      "execution_count": null,
      "outputs": []
    },
    {
      "cell_type": "code",
      "source": [
        "# ==========================\n",
        "# 請修改以下程式碼\n",
        "# ==========================\n",
        "# 說明: 移除房價過低或過高的極端值，請根據觀察結果填入範圍\n",
        "df = df[(df['price'] >= ______) & (df['price'] <= ______)]\n"
      ],
      "metadata": {
        "id": "XgIjNDViqNrP"
      },
      "execution_count": null,
      "outputs": []
    },
    {
      "cell_type": "code",
      "source": [
        "# 檢查是否成功刪除極端值\n",
        "print(df['price'].describe())"
      ],
      "metadata": {
        "id": "i9F98Ai1TCKh"
      },
      "execution_count": null,
      "outputs": []
    },
    {
      "cell_type": "markdown",
      "source": [
        "### minimun_nights"
      ],
      "metadata": {
        "id": "6Sx52j8RyHFQ"
      }
    },
    {
      "cell_type": "code",
      "source": [
        "# 顯示 minimum_nights 欄位的基本統計資訊\n",
        "print(df['minimum_nights'].describe())"
      ],
      "metadata": {
        "id": "f0yPpqTp0A6C"
      },
      "execution_count": null,
      "outputs": []
    },
    {
      "cell_type": "code",
      "source": [
        "# ==========================\n",
        "# 請在以下填入程式碼\n",
        "# ==========================\n",
        "# 說明: 移除不合理的天數"
      ],
      "metadata": {
        "id": "xs2__32t1Kyz"
      },
      "execution_count": null,
      "outputs": []
    },
    {
      "cell_type": "code",
      "source": [
        "# 檢查是否成功刪除極端值\n",
        "print(df['minimum_nights'].describe())"
      ],
      "metadata": {
        "id": "-_4BQR4v1ZzC"
      },
      "execution_count": null,
      "outputs": []
    },
    {
      "cell_type": "markdown",
      "source": [
        "### availability_365"
      ],
      "metadata": {
        "id": "M7dRZdtybHDw"
      }
    },
    {
      "cell_type": "code",
      "source": [
        "# ==========================\n",
        "# 請在以下填入程式碼\n",
        "# ==========================\n",
        "# 說明：請依序完成以下步驟：\n",
        "# 1. 檢查 minimum_nights 欄位中是否有不合理的數值\n",
        "# 2. 移除這些不合理的資料\n",
        "# 3. 再次檢查 minimum_nights，確認是否已成功移除異常值"
      ],
      "metadata": {
        "id": "LtoP0G6qse0S"
      },
      "execution_count": null,
      "outputs": []
    },
    {
      "cell_type": "markdown",
      "source": [
        "# 下載處理好的資料"
      ],
      "metadata": {
        "id": "DoDPb5GVahw5"
      }
    },
    {
      "cell_type": "code",
      "source": [
        "# ==========================\n",
        "# 請修改以下程式碼\n",
        "# ==========================\n",
        "# 說明: 請將檔案命名，並存為csv檔\n",
        "# ex.如果你是第 5 組，請填 \"5_New_York_Airbnb_Data_2024.csv\"\n",
        "\n",
        "df.to_csv(\"______\", index=False, encoding=\"utf-8-sig\")"
      ],
      "metadata": {
        "id": "tu4O0p8makYv"
      },
      "execution_count": null,
      "outputs": []
    },
    {
      "cell_type": "code",
      "source": [
        "# ==========================\n",
        "# 請修改以下程式碼\n",
        "# ==========================\n",
        "# 說明: 請填入你要下載的檔案的名稱\n",
        "from google.colab import files\n",
        "files.download(\"______\")"
      ],
      "metadata": {
        "id": "3yaarFRaanNH"
      },
      "execution_count": null,
      "outputs": []
    },
    {
      "cell_type": "markdown",
      "source": [
        "⭐⭐⭐\n",
        "\n",
        "請將這份 CSV 檔案上傳到你的 Google Drive，以免之後找不到檔案，又必須重新處理一次。"
      ],
      "metadata": {
        "id": "Zisw4LzWbKqs"
      }
    }
  ]
}